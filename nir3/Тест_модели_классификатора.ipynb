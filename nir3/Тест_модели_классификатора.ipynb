{
 "cells": [
  {
   "cell_type": "code",
   "execution_count": null,
   "metadata": {},
   "outputs": [
    {
     "name": "stderr",
     "output_type": "stream",
     "text": [
      "Device set to use cuda:0\n"
     ]
    },
    {
     "name": "stdout",
     "output_type": "stream",
     "text": [
      "[{'label': 'СоцЗащита,', 'score': 0.9857115149497986}]\n"
     ]
    }
   ],
   "source": [
    "from transformers import pipeline\n",
    "import huggingface_hub\n",
    "\n",
    "\n",
    "repository_id = 'Glebosol/spb_city_prob_class'\n",
    "classifier = pipeline(\"sentiment-analysis\", model=repository_id, tokenizer=repository_id, device=0)\n",
    "\n",
    "sample = \"добрый вечер подскажите пожалуйстамоя мама шляхтина наталия владимировна с сыном инвалидом шляхтиным сергеем вячеславовичемгр попала в сводный список на получение субсидии на приобретение жильябрат инвалид детства  инвалидность с  года раньше каждый год подтверждали инвалидностьс  лет она бессрочная так вот  сегодня в горжилобмен довозили справку о том что брат инвалидность получил до  года но в гжо запросили справку за период с по  и с  по это опять идти в пфр маме и заказывать справку неужели нельзя по человечески было это все объяснить чтобы не мотаться туда сюда мама только выписалась из больницы и езда туда сюда негативно сказывается на ее самочувствиинеужели нельзя обойтись без этой бюрократииведь и дураку понятно что в этот период мой брат никак не мог излечиться  спасибо большое за ответ\"\n",
    "\n",
    "\n",
    "pred = classifier(sample)\n",
    "print(pred)"
   ]
  }
 ],
 "metadata": {
  "kernelspec": {
   "display_name": "Python 3",
   "language": "python",
   "name": "python3"
  },
  "language_info": {
   "codemirror_mode": {
    "name": "ipython",
    "version": 3
   },
   "file_extension": ".py",
   "mimetype": "text/x-python",
   "name": "python",
   "nbconvert_exporter": "python",
   "pygments_lexer": "ipython3",
   "version": "3.11.0"
  }
 },
 "nbformat": 4,
 "nbformat_minor": 2
}
