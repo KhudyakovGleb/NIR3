{
 "cells": [
  {
   "cell_type": "code",
   "execution_count": null,
   "metadata": {},
   "outputs": [
    {
     "name": "stderr",
     "output_type": "stream",
     "text": [
      "Device set to use cuda:0\n"
     ]
    },
    {
     "name": "stdout",
     "output_type": "stream",
     "text": [
      "[{'label': 'LABEL_0', 'score': 0.9640925526618958}]\n"
     ]
    }
   ],
   "source": [
    "from transformers import pipeline\n",
    "import huggingface_hub\n",
    "\n",
    "repository_id = 'Glebosol/sm_problem_cat'\n",
    "classifier = pipeline(\"sentiment-analysis\", model=repository_id, tokenizer=repository_id, device=0)\n",
    "\n",
    "sample = \"\"\n",
    "\n",
    "\n",
    "pred = classifier(sample)\n",
    "print(pred)\n",
    "# [{'label': 'card_arrival', 'score': 0.9903606176376343}]"
   ]
  }
 ],
 "metadata": {
  "kernelspec": {
   "display_name": "Python 3",
   "language": "python",
   "name": "python3"
  },
  "language_info": {
   "codemirror_mode": {
    "name": "ipython",
    "version": 3
   },
   "file_extension": ".py",
   "mimetype": "text/x-python",
   "name": "python",
   "nbconvert_exporter": "python",
   "pygments_lexer": "ipython3",
   "version": "3.11.0"
  }
 },
 "nbformat": 4,
 "nbformat_minor": 2
}
