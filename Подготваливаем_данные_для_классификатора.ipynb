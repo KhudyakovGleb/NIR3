{
 "cells": [
  {
   "cell_type": "code",
   "execution_count": 1,
   "metadata": {},
   "outputs": [],
   "source": [
    "import pandas as pd"
   ]
  },
  {
   "cell_type": "code",
   "execution_count": 2,
   "metadata": {},
   "outputs": [],
   "source": [
    "df = pd.read_excel(r'c:\\Users\\User\\Downloads\\Telegram Desktop\\total_reports.xlsx', sheet_name='Сообщения 2022')\n",
    "# df = df['Текст']\n",
    "df = df[df['Текст'].str.len() > 10]\n",
    "df = df.rename(columns= {'Текст': 'text'})\n",
    "df['tag'] = 1\n",
    "df = df[['text', 'tag']]\n",
    "df = df.head(1000)"
   ]
  },
  {
   "cell_type": "code",
   "execution_count": 3,
   "metadata": {},
   "outputs": [],
   "source": [
    "list_of_csv = [\n",
    "    'Данные_для_классификатора_2.csv',\n",
    "    'Данные_для_классификатора_3.csv'\n",
    "]\n",
    "\n",
    "df2 = pd.DataFrame()\n",
    "for name_file in list_of_csv:\n",
    "    df_un = pd.read_csv(name_file, sep=';')\n",
    "    df2 = pd.concat([df2, df_un], ignore_index=True)  # Добавляем данные в общий DataFrame\n"
   ]
  },
  {
   "cell_type": "code",
   "execution_count": 4,
   "metadata": {},
   "outputs": [],
   "source": [
    "df_un = pd.read_csv(r'c:\\Users\\User\\Documents\\НИР3\\Данные_для_классификатора_1.сsv')\n",
    "df2 = pd.concat([df2, df_un], ignore_index=True)\n",
    "df = pd.concat([df2, df], ignore_index=True)"
   ]
  },
  {
   "cell_type": "code",
   "execution_count": 6,
   "metadata": {},
   "outputs": [],
   "source": [
    "df = df.rename(columns={'tag':'label'})"
   ]
  },
  {
   "cell_type": "code",
   "execution_count": 7,
   "metadata": {},
   "outputs": [
    {
     "data": {
      "text/html": [
       "<div>\n",
       "<style scoped>\n",
       "    .dataframe tbody tr th:only-of-type {\n",
       "        vertical-align: middle;\n",
       "    }\n",
       "\n",
       "    .dataframe tbody tr th {\n",
       "        vertical-align: top;\n",
       "    }\n",
       "\n",
       "    .dataframe thead th {\n",
       "        text-align: right;\n",
       "    }\n",
       "</style>\n",
       "<table border=\"1\" class=\"dataframe\">\n",
       "  <thead>\n",
       "    <tr style=\"text-align: right;\">\n",
       "      <th></th>\n",
       "      <th>text</th>\n",
       "      <th>label</th>\n",
       "    </tr>\n",
       "  </thead>\n",
       "  <tbody>\n",
       "    <tr>\n",
       "      <th>0</th>\n",
       "      <td>15.12.2022 завершился очередной мастер класс п...</td>\n",
       "      <td>0</td>\n",
       "    </tr>\n",
       "    <tr>\n",
       "      <th>1</th>\n",
       "      <td>Приём заместителя прокурора Санкт-Петербурга16...</td>\n",
       "      <td>0</td>\n",
       "    </tr>\n",
       "    <tr>\n",
       "      <th>2</th>\n",
       "      <td>13.12.2022 завершился очередной мастер класс п...</td>\n",
       "      <td>0</td>\n",
       "    </tr>\n",
       "    <tr>\n",
       "      <th>3</th>\n",
       "      <td>12.12.2022 г. в помещении МО Балканский прошел...</td>\n",
       "      <td>0</td>\n",
       "    </tr>\n",
       "    <tr>\n",
       "      <th>4</th>\n",
       "      <td>08.12.2022 в помещении МО Балканский прошел ма...</td>\n",
       "      <td>0</td>\n",
       "    </tr>\n",
       "    <tr>\n",
       "      <th>...</th>\n",
       "      <td>...</td>\n",
       "      <td>...</td>\n",
       "    </tr>\n",
       "    <tr>\n",
       "      <th>1929</th>\n",
       "      <td>Александр Дмитриевич, добрый день! Обращаюсь к...</td>\n",
       "      <td>1</td>\n",
       "    </tr>\n",
       "    <tr>\n",
       "      <th>1930</th>\n",
       "      <td>Ещё бы тридцатисантиметровую наледь сбили с ас...</td>\n",
       "      <td>1</td>\n",
       "    </tr>\n",
       "    <tr>\n",
       "      <th>1931</th>\n",
       "      <td>Добрый день! С просьбой убрать большую лужу у ...</td>\n",
       "      <td>1</td>\n",
       "    </tr>\n",
       "    <tr>\n",
       "      <th>1932</th>\n",
       "      <td>Светлановский пр 60 Корп 3, попробуйте проехат...</td>\n",
       "      <td>1</td>\n",
       "    </tr>\n",
       "    <tr>\n",
       "      <th>1933</th>\n",
       "      <td>Уважаемый Сергей Николаевич! С Фасада нашего д...</td>\n",
       "      <td>1</td>\n",
       "    </tr>\n",
       "  </tbody>\n",
       "</table>\n",
       "<p>1934 rows × 2 columns</p>\n",
       "</div>"
      ],
      "text/plain": [
       "                                                   text  label\n",
       "0     15.12.2022 завершился очередной мастер класс п...      0\n",
       "1     Приём заместителя прокурора Санкт-Петербурга16...      0\n",
       "2     13.12.2022 завершился очередной мастер класс п...      0\n",
       "3     12.12.2022 г. в помещении МО Балканский прошел...      0\n",
       "4     08.12.2022 в помещении МО Балканский прошел ма...      0\n",
       "...                                                 ...    ...\n",
       "1929  Александр Дмитриевич, добрый день! Обращаюсь к...      1\n",
       "1930  Ещё бы тридцатисантиметровую наледь сбили с ас...      1\n",
       "1931  Добрый день! С просьбой убрать большую лужу у ...      1\n",
       "1932  Светлановский пр 60 Корп 3, попробуйте проехат...      1\n",
       "1933  Уважаемый Сергей Николаевич! С Фасада нашего д...      1\n",
       "\n",
       "[1934 rows x 2 columns]"
      ]
     },
     "execution_count": 7,
     "metadata": {},
     "output_type": "execute_result"
    }
   ],
   "source": [
    "df"
   ]
  }
 ],
 "metadata": {
  "kernelspec": {
   "display_name": "Python 3",
   "language": "python",
   "name": "python3"
  },
  "language_info": {
   "codemirror_mode": {
    "name": "ipython",
    "version": 3
   },
   "file_extension": ".py",
   "mimetype": "text/x-python",
   "name": "python",
   "nbconvert_exporter": "python",
   "pygments_lexer": "ipython3",
   "version": "3.11.0"
  }
 },
 "nbformat": 4,
 "nbformat_minor": 2
}
